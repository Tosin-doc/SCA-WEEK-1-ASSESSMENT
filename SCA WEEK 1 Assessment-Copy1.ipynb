{
 "cells": [
  {
   "cell_type": "markdown",
   "metadata": {},
   "source": [
    "# GUESS THE NUMBER"
   ]
  },
  {
   "cell_type": "code",
   "execution_count": 1,
   "metadata": {},
   "outputs": [
    {
     "name": "stdout",
     "output_type": "stream",
     "text": [
      "Hello!What is your name?\n",
      "Tosin Akintibu\n",
      "21\n",
      "Your guess is too high.\n"
     ]
    }
   ],
   "source": [
    "import random \n",
    "guesses_taken = 0\n",
    "print('Hello!What is your name?')\n",
    "my_name = input()\n",
    "number = random.randint(1, 20)\n",
    "guess_num = input()\n",
    "guess_num = int(guess_num)\n",
    "if guess_num < number:\n",
    "    print('Your guess is too low.')\n",
    "if guess_num > number:\n",
    "    print('Your guess is too high.')    "
   ]
  },
  {
   "cell_type": "markdown",
   "metadata": {},
   "source": [
    "# GENERATE A PASSWORD"
   ]
  },
  {
   "cell_type": "code",
   "execution_count": 2,
   "metadata": {},
   "outputs": [
    {
     "name": "stdout",
     "output_type": "stream",
     "text": [
      "How strong do you want your password?Strong/Weak\n",
      "Strong\n",
      "Your password has been generated: \n"
     ]
    }
   ],
   "source": [
    "import string \n",
    "import random\n",
    "\n",
    "s = string.punctuation\n",
    "u = string.ascii_uppercase\n",
    "l = string.ascii_lowercase\n",
    "n = string.digits\n",
    "\n",
    "strong = input(\"How strong do you want your password?Strong/Weak\\n\")\n",
    "psswrd = []\n",
    "               \n",
    "if strong == \"strong\":  \n",
    "\n",
    "    while len(psswrd) < 6:    \n",
    "        psswrd.append(random.choice(s))\n",
    "        psswrd.append(random.choice(u)) \n",
    "        psswrd.append(random.choice(l))\n",
    "        psswrd.append(random.choice(n))\n",
    "\n",
    "if len(psswrd) < 6:\n",
    "    print(\"Your password has been generated:\",\"\".join(psswrd))\n",
    "\n",
    "elif strong == \"weak\":\n",
    "\n",
    "    while len(psswrd) < 6:\n",
    "        psswrd.append(random.choice(u))\n",
    "        psswrd.append(random.choice(l))\n",
    "\n",
    "if len(psswrd) == 6:\n",
    "    print(\"Your password has been generated:\",\"\".join(psswrd))              "
   ]
  }
 ],
 "metadata": {
  "kernelspec": {
   "display_name": "Python 3",
   "language": "python",
   "name": "python3"
  },
  "language_info": {
   "codemirror_mode": {
    "name": "ipython",
    "version": 3
   },
   "file_extension": ".py",
   "mimetype": "text/x-python",
   "name": "python",
   "nbconvert_exporter": "python",
   "pygments_lexer": "ipython3",
   "version": "3.7.6"
  }
 },
 "nbformat": 4,
 "nbformat_minor": 4
}
